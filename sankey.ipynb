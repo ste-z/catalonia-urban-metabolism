{
 "cells": [
  {
   "cell_type": "code",
   "execution_count": 1,
   "metadata": {},
   "outputs": [],
   "source": [
    "import numpy as np \n",
    "import pandas as pd \n",
    "import re\n",
    "import plotly.graph_objects as go"
   ]
  },
  {
   "cell_type": "code",
   "execution_count": 2,
   "metadata": {},
   "outputs": [],
   "source": [
    "exports = pd.read_csv(\"Exportacions.csv\", sep=\";\", index_col=0)['2021']\n",
    "imports = pd.read_csv(\"Importacions.csv\", sep=\";\", index_col=0)['2021']\n",
    "processed = pd.read_csv(\"Output_domèstic_processat.csv\", sep=\";\", index_col=0)['2021']\n",
    "extraction = pd.read_csv(\"Extracció_domèstica.csv\", sep=\";\", index_col=0)['2021']"
   ]
  },
  {
   "cell_type": "code",
   "execution_count": 3,
   "metadata": {},
   "outputs": [],
   "source": [
    "imports_primeres = imports.iloc[1:6]\n",
    "imports_semimanufacturats = imports.iloc[7:12]\n",
    "imports_manufacturats = imports.iloc[13:-1]\n",
    "\n",
    "imports_primeres.index = imports_primeres.index.astype(str) + \" (import primers)\"\n",
    "imports_semimanufacturats.index = imports_semimanufacturats.index.astype(str) + \" (import semimanufacturats)\"\n",
    "imports_manufacturats.index = imports_manufacturats.index.astype(str) + \" (import manufacturats)\"\n",
    "\n",
    "imports_primeres = imports_primeres.to_frame().reset_index(drop=False).rename({\"2021\":\"value\", \"index\":\"source\"}, axis=1)\n",
    "imports_primeres.insert(1, \"target\", [\"Matèries primeres (import)\"]*len(imports_primeres))\n",
    "imports_semimanufacturats = imports_semimanufacturats.to_frame().reset_index(drop=False).rename({\"2021\":\"value\", \"index\":\"source\"}, axis=1)\n",
    "imports_semimanufacturats.insert(1, \"target\", [\"Productes semimanufacturats (import)\"]*len(imports_semimanufacturats))\n",
    "imports_manufacturats = imports_manufacturats.to_frame().reset_index(drop=False).rename({\"2021\":\"value\", \"index\":\"source\"}, axis=1)\n",
    "imports_manufacturats.insert(1, \"target\", [\"Productes manufacturats (import)\"]*len(imports_manufacturats))"
   ]
  },
  {
   "cell_type": "code",
   "execution_count": 4,
   "metadata": {},
   "outputs": [
    {
     "data": {
      "text/html": [
       "<div>\n",
       "<style scoped>\n",
       "    .dataframe tbody tr th:only-of-type {\n",
       "        vertical-align: middle;\n",
       "    }\n",
       "\n",
       "    .dataframe tbody tr th {\n",
       "        vertical-align: top;\n",
       "    }\n",
       "\n",
       "    .dataframe thead th {\n",
       "        text-align: right;\n",
       "    }\n",
       "</style>\n",
       "<table border=\"1\" class=\"dataframe\">\n",
       "  <thead>\n",
       "    <tr style=\"text-align: right;\">\n",
       "      <th></th>\n",
       "      <th>source</th>\n",
       "      <th>target</th>\n",
       "      <th>value</th>\n",
       "    </tr>\n",
       "  </thead>\n",
       "  <tbody>\n",
       "    <tr>\n",
       "      <th>0</th>\n",
       "      <td>Matèries primeres (import primers)</td>\n",
       "      <td>Matèries primeres (import)</td>\n",
       "      <td>26442601</td>\n",
       "    </tr>\n",
       "    <tr>\n",
       "      <th>1</th>\n",
       "      <td>Biòtiques (import primers)</td>\n",
       "      <td>Matèries primeres (import)</td>\n",
       "      <td>14950670</td>\n",
       "    </tr>\n",
       "    <tr>\n",
       "      <th>2</th>\n",
       "      <td>Metàl·liques (import primers)</td>\n",
       "      <td>Matèries primeres (import)</td>\n",
       "      <td>73474</td>\n",
       "    </tr>\n",
       "    <tr>\n",
       "      <th>3</th>\n",
       "      <td>No metàl·liques (import primers)</td>\n",
       "      <td>Matèries primeres (import)</td>\n",
       "      <td>1735418</td>\n",
       "    </tr>\n",
       "    <tr>\n",
       "      <th>4</th>\n",
       "      <td>Combustibles fòssils (import primers)</td>\n",
       "      <td>Matèries primeres (import)</td>\n",
       "      <td>9683040</td>\n",
       "    </tr>\n",
       "    <tr>\n",
       "      <th>0</th>\n",
       "      <td>Biòtics (import semimanufacturats)</td>\n",
       "      <td>Productes semimanufacturats (import)</td>\n",
       "      <td>5906543</td>\n",
       "    </tr>\n",
       "    <tr>\n",
       "      <th>1</th>\n",
       "      <td>Metàl·lics (import semimanufacturats)</td>\n",
       "      <td>Productes semimanufacturats (import)</td>\n",
       "      <td>4894518</td>\n",
       "    </tr>\n",
       "    <tr>\n",
       "      <th>2</th>\n",
       "      <td>No metàl·lics (import semimanufacturats)</td>\n",
       "      <td>Productes semimanufacturats (import)</td>\n",
       "      <td>1567081</td>\n",
       "    </tr>\n",
       "    <tr>\n",
       "      <th>3</th>\n",
       "      <td>Combustibles fòssils (import semimanufacturats)</td>\n",
       "      <td>Productes semimanufacturats (import)</td>\n",
       "      <td>2000037</td>\n",
       "    </tr>\n",
       "    <tr>\n",
       "      <th>4</th>\n",
       "      <td>Altres productes semimanufacturats (import sem...</td>\n",
       "      <td>Productes semimanufacturats (import)</td>\n",
       "      <td>1546831</td>\n",
       "    </tr>\n",
       "    <tr>\n",
       "      <th>0</th>\n",
       "      <td>Biòtics (import manufacturats)</td>\n",
       "      <td>Productes manufacturats (import)</td>\n",
       "      <td>15195133</td>\n",
       "    </tr>\n",
       "    <tr>\n",
       "      <th>1</th>\n",
       "      <td>Metàl·lics (import manufacturats)</td>\n",
       "      <td>Productes manufacturats (import)</td>\n",
       "      <td>6762375</td>\n",
       "    </tr>\n",
       "    <tr>\n",
       "      <th>2</th>\n",
       "      <td>No metàl·lics (import manufacturats)</td>\n",
       "      <td>Productes manufacturats (import)</td>\n",
       "      <td>1916495</td>\n",
       "    </tr>\n",
       "    <tr>\n",
       "      <th>3</th>\n",
       "      <td>Combustibles fòssils (import manufacturats)</td>\n",
       "      <td>Productes manufacturats (import)</td>\n",
       "      <td>11913913</td>\n",
       "    </tr>\n",
       "    <tr>\n",
       "      <th>4</th>\n",
       "      <td>Residus manufacturats (import manufacturats)</td>\n",
       "      <td>Productes manufacturats (import)</td>\n",
       "      <td>1753</td>\n",
       "    </tr>\n",
       "    <tr>\n",
       "      <th>5</th>\n",
       "      <td>Altres productes manufacturats (import manufac...</td>\n",
       "      <td>Productes manufacturats (import)</td>\n",
       "      <td>7899757</td>\n",
       "    </tr>\n",
       "  </tbody>\n",
       "</table>\n",
       "</div>"
      ],
      "text/plain": [
       "                                              source  \\\n",
       "0                 Matèries primeres (import primers)   \n",
       "1                         Biòtiques (import primers)   \n",
       "2                      Metàl·liques (import primers)   \n",
       "3                   No metàl·liques (import primers)   \n",
       "4              Combustibles fòssils (import primers)   \n",
       "0                 Biòtics (import semimanufacturats)   \n",
       "1              Metàl·lics (import semimanufacturats)   \n",
       "2           No metàl·lics (import semimanufacturats)   \n",
       "3    Combustibles fòssils (import semimanufacturats)   \n",
       "4  Altres productes semimanufacturats (import sem...   \n",
       "0                     Biòtics (import manufacturats)   \n",
       "1                  Metàl·lics (import manufacturats)   \n",
       "2               No metàl·lics (import manufacturats)   \n",
       "3        Combustibles fòssils (import manufacturats)   \n",
       "4       Residus manufacturats (import manufacturats)   \n",
       "5  Altres productes manufacturats (import manufac...   \n",
       "\n",
       "                                 target     value  \n",
       "0            Matèries primeres (import)  26442601  \n",
       "1            Matèries primeres (import)  14950670  \n",
       "2            Matèries primeres (import)     73474  \n",
       "3            Matèries primeres (import)   1735418  \n",
       "4            Matèries primeres (import)   9683040  \n",
       "0  Productes semimanufacturats (import)   5906543  \n",
       "1  Productes semimanufacturats (import)   4894518  \n",
       "2  Productes semimanufacturats (import)   1567081  \n",
       "3  Productes semimanufacturats (import)   2000037  \n",
       "4  Productes semimanufacturats (import)   1546831  \n",
       "0      Productes manufacturats (import)  15195133  \n",
       "1      Productes manufacturats (import)   6762375  \n",
       "2      Productes manufacturats (import)   1916495  \n",
       "3      Productes manufacturats (import)  11913913  \n",
       "4      Productes manufacturats (import)      1753  \n",
       "5      Productes manufacturats (import)   7899757  "
      ]
     },
     "execution_count": 4,
     "metadata": {},
     "output_type": "execute_result"
    }
   ],
   "source": [
    "imports_subcat = pd.concat([imports_primeres, imports_semimanufacturats, imports_manufacturats])\n",
    "imports_subcat"
   ]
  },
  {
   "cell_type": "code",
   "execution_count": 5,
   "metadata": {},
   "outputs": [
    {
     "data": {
      "text/html": [
       "<div>\n",
       "<style scoped>\n",
       "    .dataframe tbody tr th:only-of-type {\n",
       "        vertical-align: middle;\n",
       "    }\n",
       "\n",
       "    .dataframe tbody tr th {\n",
       "        vertical-align: top;\n",
       "    }\n",
       "\n",
       "    .dataframe thead th {\n",
       "        text-align: right;\n",
       "    }\n",
       "</style>\n",
       "<table border=\"1\" class=\"dataframe\">\n",
       "  <thead>\n",
       "    <tr style=\"text-align: right;\">\n",
       "      <th></th>\n",
       "      <th>source</th>\n",
       "      <th>target</th>\n",
       "      <th>value</th>\n",
       "    </tr>\n",
       "  </thead>\n",
       "  <tbody>\n",
       "    <tr>\n",
       "      <th>0</th>\n",
       "      <td>Matèries primeres (import)</td>\n",
       "      <td>Imports</td>\n",
       "      <td>52885203</td>\n",
       "    </tr>\n",
       "    <tr>\n",
       "      <th>1</th>\n",
       "      <td>Productes manufacturats (import)</td>\n",
       "      <td>Imports</td>\n",
       "      <td>43689426</td>\n",
       "    </tr>\n",
       "    <tr>\n",
       "      <th>2</th>\n",
       "      <td>Productes semimanufacturats (import)</td>\n",
       "      <td>Imports</td>\n",
       "      <td>15915010</td>\n",
       "    </tr>\n",
       "    <tr>\n",
       "      <th>19</th>\n",
       "      <td>Altres importacions de l'exterior</td>\n",
       "      <td>Imports</td>\n",
       "      <td>5407608</td>\n",
       "    </tr>\n",
       "  </tbody>\n",
       "</table>\n",
       "</div>"
      ],
      "text/plain": [
       "                                  source   target     value\n",
       "0             Matèries primeres (import)  Imports  52885203\n",
       "1       Productes manufacturats (import)  Imports  43689426\n",
       "2   Productes semimanufacturats (import)  Imports  15915010\n",
       "19     Altres importacions de l'exterior  Imports   5407608"
      ]
     },
     "execution_count": 5,
     "metadata": {},
     "output_type": "execute_result"
    }
   ],
   "source": [
    "imports_cat = imports_subcat.groupby('target')[['value']].sum().reset_index().rename({'target':'source'}, axis=1)\n",
    "imports_cat = pd.concat([imports_cat, imports.to_frame().reset_index().rename({\"2021\":\"value\", \"index\":\"source\"}, axis=1).iloc[-1].to_frame().T])\n",
    "imports_cat.insert(1, \"target\", \"Imports\")\n",
    "imports_cat"
   ]
  },
  {
   "cell_type": "code",
   "execution_count": 6,
   "metadata": {},
   "outputs": [
    {
     "data": {
      "text/html": [
       "<div>\n",
       "<style scoped>\n",
       "    .dataframe tbody tr th:only-of-type {\n",
       "        vertical-align: middle;\n",
       "    }\n",
       "\n",
       "    .dataframe tbody tr th {\n",
       "        vertical-align: top;\n",
       "    }\n",
       "\n",
       "    .dataframe thead th {\n",
       "        text-align: right;\n",
       "    }\n",
       "</style>\n",
       "<table border=\"1\" class=\"dataframe\">\n",
       "  <thead>\n",
       "    <tr style=\"text-align: right;\">\n",
       "      <th></th>\n",
       "      <th>source</th>\n",
       "      <th>target</th>\n",
       "      <th>value</th>\n",
       "    </tr>\n",
       "  </thead>\n",
       "  <tbody>\n",
       "    <tr>\n",
       "      <th>0</th>\n",
       "      <td>Imports</td>\n",
       "      <td>Catalonia</td>\n",
       "      <td>117897247</td>\n",
       "    </tr>\n",
       "  </tbody>\n",
       "</table>\n",
       "</div>"
      ],
      "text/plain": [
       "    source     target      value\n",
       "0  Imports  Catalonia  117897247"
      ]
     },
     "execution_count": 6,
     "metadata": {},
     "output_type": "execute_result"
    }
   ],
   "source": [
    "imports_total = pd.Series({\"source\":\"Imports\", \"target\":\"Catalonia\", \"value\":imports_cat['value'].sum()}).to_frame().T\n",
    "imports_total"
   ]
  },
  {
   "cell_type": "code",
   "execution_count": 7,
   "metadata": {},
   "outputs": [],
   "source": [
    "exports_primeres = exports.iloc[1:6]\n",
    "exports_semimanufacturats = exports.iloc[7:12]\n",
    "exports_manufacturats = exports.iloc[13:-1]\n",
    "\n",
    "exports_primeres.index = exports_primeres.index.astype(str) + \" (export primers)\"\n",
    "exports_semimanufacturats.index = exports_semimanufacturats.index.astype(str) + \" (export semimanufacturats)\"\n",
    "exports_manufacturats.index = exports_manufacturats.index.astype(str) + \" (export manufacturats)\"\n",
    "\n",
    "exports_primeres = exports_primeres.to_frame().reset_index(drop=False).rename({\"2021\":\"value\", \"index\":\"target\"}, axis=1)\n",
    "exports_primeres.insert(1, \"source\", [\"Matèries primeres (export)\"]*len(exports_primeres))\n",
    "exports_semimanufacturats = exports_semimanufacturats.to_frame().reset_index(drop=False).rename({\"2021\":\"value\", \"index\":\"target\"}, axis=1)\n",
    "exports_semimanufacturats.insert(1, \"source\", [\"Productes semimanufacturats (export)\"]*len(exports_semimanufacturats))\n",
    "exports_manufacturats = exports_manufacturats.to_frame().reset_index(drop=False).rename({\"2021\":\"value\", \"index\":\"target\"}, axis=1)\n",
    "exports_manufacturats.insert(1, \"source\", [\"Productes manufacturats (export)\"]*len(exports_manufacturats))"
   ]
  },
  {
   "cell_type": "code",
   "execution_count": 8,
   "metadata": {},
   "outputs": [
    {
     "data": {
      "text/html": [
       "<div>\n",
       "<style scoped>\n",
       "    .dataframe tbody tr th:only-of-type {\n",
       "        vertical-align: middle;\n",
       "    }\n",
       "\n",
       "    .dataframe tbody tr th {\n",
       "        vertical-align: top;\n",
       "    }\n",
       "\n",
       "    .dataframe thead th {\n",
       "        text-align: right;\n",
       "    }\n",
       "</style>\n",
       "<table border=\"1\" class=\"dataframe\">\n",
       "  <thead>\n",
       "    <tr style=\"text-align: right;\">\n",
       "      <th></th>\n",
       "      <th>target</th>\n",
       "      <th>source</th>\n",
       "      <th>value</th>\n",
       "    </tr>\n",
       "  </thead>\n",
       "  <tbody>\n",
       "    <tr>\n",
       "      <th>0</th>\n",
       "      <td>Matèries primeres (export primers)</td>\n",
       "      <td>Matèries primeres (export)</td>\n",
       "      <td>10047573</td>\n",
       "    </tr>\n",
       "    <tr>\n",
       "      <th>1</th>\n",
       "      <td>Biòtiques (export primers)</td>\n",
       "      <td>Matèries primeres (export)</td>\n",
       "      <td>5640688</td>\n",
       "    </tr>\n",
       "    <tr>\n",
       "      <th>2</th>\n",
       "      <td>Metàl·liques (export primers)</td>\n",
       "      <td>Matèries primeres (export)</td>\n",
       "      <td>123693</td>\n",
       "    </tr>\n",
       "    <tr>\n",
       "      <th>3</th>\n",
       "      <td>No metàl·liques (export primers)</td>\n",
       "      <td>Matèries primeres (export)</td>\n",
       "      <td>3523963</td>\n",
       "    </tr>\n",
       "    <tr>\n",
       "      <th>4</th>\n",
       "      <td>Combustibles fòssils (export primers)</td>\n",
       "      <td>Matèries primeres (export)</td>\n",
       "      <td>841739</td>\n",
       "    </tr>\n",
       "    <tr>\n",
       "      <th>0</th>\n",
       "      <td>Biòtics (export semimanufacturats)</td>\n",
       "      <td>Productes semimanufacturats (export)</td>\n",
       "      <td>6986128</td>\n",
       "    </tr>\n",
       "    <tr>\n",
       "      <th>1</th>\n",
       "      <td>Metàl·lics (export semimanufacturats)</td>\n",
       "      <td>Productes semimanufacturats (export)</td>\n",
       "      <td>2467339</td>\n",
       "    </tr>\n",
       "    <tr>\n",
       "      <th>2</th>\n",
       "      <td>No metàl·lics (export semimanufacturats)</td>\n",
       "      <td>Productes semimanufacturats (export)</td>\n",
       "      <td>3725972</td>\n",
       "    </tr>\n",
       "    <tr>\n",
       "      <th>3</th>\n",
       "      <td>Combustibles fòssils (export semimanufacturats)</td>\n",
       "      <td>Productes semimanufacturats (export)</td>\n",
       "      <td>1607478</td>\n",
       "    </tr>\n",
       "    <tr>\n",
       "      <th>4</th>\n",
       "      <td>Altres productes semimanufacturats (export sem...</td>\n",
       "      <td>Productes semimanufacturats (export)</td>\n",
       "      <td>1607944</td>\n",
       "    </tr>\n",
       "    <tr>\n",
       "      <th>0</th>\n",
       "      <td>Biòtics (export manufacturats)</td>\n",
       "      <td>Productes manufacturats (export)</td>\n",
       "      <td>15214592</td>\n",
       "    </tr>\n",
       "    <tr>\n",
       "      <th>1</th>\n",
       "      <td>Metàl·lics (export manufacturats)</td>\n",
       "      <td>Productes manufacturats (export)</td>\n",
       "      <td>7551836</td>\n",
       "    </tr>\n",
       "    <tr>\n",
       "      <th>2</th>\n",
       "      <td>No metàl·lics (export manufacturats)</td>\n",
       "      <td>Productes manufacturats (export)</td>\n",
       "      <td>1409284</td>\n",
       "    </tr>\n",
       "    <tr>\n",
       "      <th>3</th>\n",
       "      <td>Combustibles fòssils (1) (export manufacturats)</td>\n",
       "      <td>Productes manufacturats (export)</td>\n",
       "      <td>11997464</td>\n",
       "    </tr>\n",
       "    <tr>\n",
       "      <th>4</th>\n",
       "      <td>Residus manufacturats (export manufacturats)</td>\n",
       "      <td>Productes manufacturats (export)</td>\n",
       "      <td>1445</td>\n",
       "    </tr>\n",
       "    <tr>\n",
       "      <th>5</th>\n",
       "      <td>Altres productes manufacturats (export manufac...</td>\n",
       "      <td>Productes manufacturats (export)</td>\n",
       "      <td>8917243</td>\n",
       "    </tr>\n",
       "  </tbody>\n",
       "</table>\n",
       "</div>"
      ],
      "text/plain": [
       "                                              target  \\\n",
       "0                 Matèries primeres (export primers)   \n",
       "1                         Biòtiques (export primers)   \n",
       "2                      Metàl·liques (export primers)   \n",
       "3                   No metàl·liques (export primers)   \n",
       "4              Combustibles fòssils (export primers)   \n",
       "0                 Biòtics (export semimanufacturats)   \n",
       "1              Metàl·lics (export semimanufacturats)   \n",
       "2           No metàl·lics (export semimanufacturats)   \n",
       "3    Combustibles fòssils (export semimanufacturats)   \n",
       "4  Altres productes semimanufacturats (export sem...   \n",
       "0                     Biòtics (export manufacturats)   \n",
       "1                  Metàl·lics (export manufacturats)   \n",
       "2               No metàl·lics (export manufacturats)   \n",
       "3    Combustibles fòssils (1) (export manufacturats)   \n",
       "4       Residus manufacturats (export manufacturats)   \n",
       "5  Altres productes manufacturats (export manufac...   \n",
       "\n",
       "                                 source     value  \n",
       "0            Matèries primeres (export)  10047573  \n",
       "1            Matèries primeres (export)   5640688  \n",
       "2            Matèries primeres (export)    123693  \n",
       "3            Matèries primeres (export)   3523963  \n",
       "4            Matèries primeres (export)    841739  \n",
       "0  Productes semimanufacturats (export)   6986128  \n",
       "1  Productes semimanufacturats (export)   2467339  \n",
       "2  Productes semimanufacturats (export)   3725972  \n",
       "3  Productes semimanufacturats (export)   1607478  \n",
       "4  Productes semimanufacturats (export)   1607944  \n",
       "0      Productes manufacturats (export)  15214592  \n",
       "1      Productes manufacturats (export)   7551836  \n",
       "2      Productes manufacturats (export)   1409284  \n",
       "3      Productes manufacturats (export)  11997464  \n",
       "4      Productes manufacturats (export)      1445  \n",
       "5      Productes manufacturats (export)   8917243  "
      ]
     },
     "execution_count": 8,
     "metadata": {},
     "output_type": "execute_result"
    }
   ],
   "source": [
    "exports_subcat = pd.concat([exports_primeres, exports_semimanufacturats, exports_manufacturats])\n",
    "exports_subcat"
   ]
  },
  {
   "cell_type": "code",
   "execution_count": 9,
   "metadata": {},
   "outputs": [
    {
     "data": {
      "text/html": [
       "<div>\n",
       "<style scoped>\n",
       "    .dataframe tbody tr th:only-of-type {\n",
       "        vertical-align: middle;\n",
       "    }\n",
       "\n",
       "    .dataframe tbody tr th {\n",
       "        vertical-align: top;\n",
       "    }\n",
       "\n",
       "    .dataframe thead th {\n",
       "        text-align: right;\n",
       "    }\n",
       "</style>\n",
       "<table border=\"1\" class=\"dataframe\">\n",
       "  <thead>\n",
       "    <tr style=\"text-align: right;\">\n",
       "      <th></th>\n",
       "      <th>target</th>\n",
       "      <th>source</th>\n",
       "      <th>value</th>\n",
       "    </tr>\n",
       "  </thead>\n",
       "  <tbody>\n",
       "    <tr>\n",
       "      <th>0</th>\n",
       "      <td>Matèries primeres (export)</td>\n",
       "      <td>Export</td>\n",
       "      <td>20177656</td>\n",
       "    </tr>\n",
       "    <tr>\n",
       "      <th>1</th>\n",
       "      <td>Productes manufacturats (export)</td>\n",
       "      <td>Export</td>\n",
       "      <td>45091864</td>\n",
       "    </tr>\n",
       "    <tr>\n",
       "      <th>2</th>\n",
       "      <td>Productes semimanufacturats (export)</td>\n",
       "      <td>Export</td>\n",
       "      <td>16394861</td>\n",
       "    </tr>\n",
       "    <tr>\n",
       "      <th>19</th>\n",
       "      <td>Altres exportacions de l'exterior</td>\n",
       "      <td>Export</td>\n",
       "      <td>7318458</td>\n",
       "    </tr>\n",
       "  </tbody>\n",
       "</table>\n",
       "</div>"
      ],
      "text/plain": [
       "                                  target  source     value\n",
       "0             Matèries primeres (export)  Export  20177656\n",
       "1       Productes manufacturats (export)  Export  45091864\n",
       "2   Productes semimanufacturats (export)  Export  16394861\n",
       "19     Altres exportacions de l'exterior  Export   7318458"
      ]
     },
     "execution_count": 9,
     "metadata": {},
     "output_type": "execute_result"
    }
   ],
   "source": [
    "exports_cat = exports_subcat.groupby('source')[['value']].sum().reset_index().rename({'source':'target'}, axis=1)\n",
    "exports_cat = pd.concat([exports_cat, exports.to_frame().reset_index().rename({\"2021\":\"value\", \"index\":\"target\"}, axis=1).iloc[-1].to_frame().T])\n",
    "exports_cat.insert(1, \"source\", \"Export\")\n",
    "exports_cat"
   ]
  },
  {
   "cell_type": "code",
   "execution_count": 10,
   "metadata": {},
   "outputs": [
    {
     "data": {
      "text/html": [
       "<div>\n",
       "<style scoped>\n",
       "    .dataframe tbody tr th:only-of-type {\n",
       "        vertical-align: middle;\n",
       "    }\n",
       "\n",
       "    .dataframe tbody tr th {\n",
       "        vertical-align: top;\n",
       "    }\n",
       "\n",
       "    .dataframe thead th {\n",
       "        text-align: right;\n",
       "    }\n",
       "</style>\n",
       "<table border=\"1\" class=\"dataframe\">\n",
       "  <thead>\n",
       "    <tr style=\"text-align: right;\">\n",
       "      <th></th>\n",
       "      <th>target</th>\n",
       "      <th>source</th>\n",
       "      <th>value</th>\n",
       "    </tr>\n",
       "  </thead>\n",
       "  <tbody>\n",
       "    <tr>\n",
       "      <th>0</th>\n",
       "      <td>Export</td>\n",
       "      <td>Catalonia</td>\n",
       "      <td>88982839</td>\n",
       "    </tr>\n",
       "  </tbody>\n",
       "</table>\n",
       "</div>"
      ],
      "text/plain": [
       "   target     source     value\n",
       "0  Export  Catalonia  88982839"
      ]
     },
     "execution_count": 10,
     "metadata": {},
     "output_type": "execute_result"
    }
   ],
   "source": [
    "exports_total = pd.Series({\"target\":\"Export\", \"source\":\"Catalonia\", \"value\":exports_cat['value'].sum()}).to_frame().T\n",
    "exports_total"
   ]
  },
  {
   "cell_type": "code",
   "execution_count": 11,
   "metadata": {},
   "outputs": [],
   "source": [
    "processed[\"Altres emissions a l'atmosfera\"] = processed[[\"Òxid de dinitrogen (N2O)\", \"Hidrofluorocarburs\", \"Perfluorocarburs\", \"Hexafluorur de sofre\", \"Contaminants orgànics persistents (COP)\"]].astype(int).sum() + 102\n",
    "\n",
    "processed.drop([\"Total\", \"Abocament de residus sòlids\", \n",
    "                \"A partir de la combustió de biomassa\", \"Sense la combustió de biomassa\",\n",
    "                \"Municipals. Al medi ambient\", \"Industrials. Al medi ambient\", \n",
    "                \"Metalls pesants\", \"Abocament de materials al mar\", \n",
    "                \"Adob orgànic (fems)\", \"Pesticides\", \n",
    "                \"Sal i altres materials anticongelants escampats per carreteres (incloent-hi graveta)\", \n",
    "                \"Dissolvents and gasos hilarants i altres\", \"Pèrdues dissipatives\", \n",
    "                \"Òxid de dinitrogen (N2O)\", \"Hidrofluorocarburs\", \"Perfluorocarburs\", \n",
    "                \"Hexafluorur de sofre\", \"Contaminants orgànics persistents (COP)\", \n",
    "                \"Emissions a l'atmosfera\", \"Emissions a l'aigua\", \"Ús dissipatiu dels productes\"], inplace=True)"
   ]
  },
  {
   "cell_type": "code",
   "execution_count": 12,
   "metadata": {},
   "outputs": [
    {
     "data": {
      "text/plain": [
       "Diòxid de carboni (CO2)                                                         37816053\n",
       "Metà (CH4)                                                                        202998\n",
       "Òxids nitrosos (NOx)                                                              169073\n",
       "Monòxid de carboni (CO)                                                           146963\n",
       "Compostos orgànics volàtils no metaners (NMVOC)                                   102369\n",
       "Diòxid de sofre (SO2)                                                              20352\n",
       "Amoníac (NH3)                                                                      77992\n",
       "Partícules                                                                         91500\n",
       "Altres emissions a l'atmosfera                                                      5692\n",
       "Municipals. Als abocadors controlats                                             1373000\n",
       "Industrials. Als abocadors controlats                                             615761\n",
       "Eliminació de residus de la construcció i demolició als abocadors controlats     2460000\n",
       "Nitrogen (N)                                                                       13267\n",
       "Fòsfor (P)                                                                           887\n",
       "Altres substàncies i materials (orgànics)                                         183050\n",
       "Adob mineral                                                                       95918\n",
       "Fang de depuració                                                                 112769\n",
       "Compost                                                                           299300\n",
       "Llavors                                                                            71877\n",
       "Name: 2021, dtype: object"
      ]
     },
     "execution_count": 12,
     "metadata": {},
     "output_type": "execute_result"
    }
   ],
   "source": [
    "processed"
   ]
  },
  {
   "cell_type": "code",
   "execution_count": 13,
   "metadata": {},
   "outputs": [],
   "source": [
    "processed_atmosfera = processed.iloc[0:9]\n",
    "processed_residus_sòlids = processed.iloc[9:12]\n",
    "processed_aigua = processed.iloc[12:15]\n",
    "processed_dissipatiu = processed.iloc[15:]\n",
    "\n",
    "processed_atmosfera = processed_atmosfera.to_frame().reset_index(drop=False).rename({\"2021\":\"value\", \"index\":\"target\"}, axis=1)\n",
    "processed_atmosfera.insert(1, \"source\", [\"Emissions a l'atmosfera\"]*len(processed_atmosfera))\n",
    "processed_residus_sòlids = processed_residus_sòlids.to_frame().reset_index(drop=False).rename({\"2021\":\"value\", \"index\":\"target\"}, axis=1)\n",
    "processed_residus_sòlids.insert(1, \"source\", [\"Abocament de residus sòlids\"]*len(processed_residus_sòlids))\n",
    "processed_aigua = processed_aigua.to_frame().reset_index(drop=False).rename({\"2021\":\"value\", \"index\":\"target\"}, axis=1)\n",
    "processed_aigua.insert(1, \"source\", [\"Emissions a l'aigua\"]*len(processed_aigua))\n",
    "processed_dissipatiu = processed_dissipatiu.to_frame().reset_index(drop=False).rename({\"2021\":\"value\", \"index\":\"target\"}, axis=1)\n",
    "processed_dissipatiu.insert(1, \"source\", [\"Ús dissipatiu dels productes\"]*len(processed_dissipatiu))"
   ]
  },
  {
   "cell_type": "code",
   "execution_count": 14,
   "metadata": {},
   "outputs": [
    {
     "data": {
      "text/html": [
       "<div>\n",
       "<style scoped>\n",
       "    .dataframe tbody tr th:only-of-type {\n",
       "        vertical-align: middle;\n",
       "    }\n",
       "\n",
       "    .dataframe tbody tr th {\n",
       "        vertical-align: top;\n",
       "    }\n",
       "\n",
       "    .dataframe thead th {\n",
       "        text-align: right;\n",
       "    }\n",
       "</style>\n",
       "<table border=\"1\" class=\"dataframe\">\n",
       "  <thead>\n",
       "    <tr style=\"text-align: right;\">\n",
       "      <th></th>\n",
       "      <th>target</th>\n",
       "      <th>source</th>\n",
       "      <th>value</th>\n",
       "    </tr>\n",
       "  </thead>\n",
       "  <tbody>\n",
       "    <tr>\n",
       "      <th>0</th>\n",
       "      <td>Diòxid de carboni (CO2)</td>\n",
       "      <td>Emissions a l'atmosfera</td>\n",
       "      <td>37816053</td>\n",
       "    </tr>\n",
       "    <tr>\n",
       "      <th>1</th>\n",
       "      <td>Metà (CH4)</td>\n",
       "      <td>Emissions a l'atmosfera</td>\n",
       "      <td>202998</td>\n",
       "    </tr>\n",
       "    <tr>\n",
       "      <th>2</th>\n",
       "      <td>Òxids nitrosos (NOx)</td>\n",
       "      <td>Emissions a l'atmosfera</td>\n",
       "      <td>169073</td>\n",
       "    </tr>\n",
       "    <tr>\n",
       "      <th>3</th>\n",
       "      <td>Monòxid de carboni (CO)</td>\n",
       "      <td>Emissions a l'atmosfera</td>\n",
       "      <td>146963</td>\n",
       "    </tr>\n",
       "    <tr>\n",
       "      <th>4</th>\n",
       "      <td>Compostos orgànics volàtils no metaners (NMVOC)</td>\n",
       "      <td>Emissions a l'atmosfera</td>\n",
       "      <td>102369</td>\n",
       "    </tr>\n",
       "    <tr>\n",
       "      <th>5</th>\n",
       "      <td>Diòxid de sofre (SO2)</td>\n",
       "      <td>Emissions a l'atmosfera</td>\n",
       "      <td>20352</td>\n",
       "    </tr>\n",
       "    <tr>\n",
       "      <th>6</th>\n",
       "      <td>Amoníac (NH3)</td>\n",
       "      <td>Emissions a l'atmosfera</td>\n",
       "      <td>77992</td>\n",
       "    </tr>\n",
       "    <tr>\n",
       "      <th>7</th>\n",
       "      <td>Partícules</td>\n",
       "      <td>Emissions a l'atmosfera</td>\n",
       "      <td>91500</td>\n",
       "    </tr>\n",
       "    <tr>\n",
       "      <th>8</th>\n",
       "      <td>Altres emissions a l'atmosfera</td>\n",
       "      <td>Emissions a l'atmosfera</td>\n",
       "      <td>5692</td>\n",
       "    </tr>\n",
       "    <tr>\n",
       "      <th>0</th>\n",
       "      <td>Municipals. Als abocadors controlats</td>\n",
       "      <td>Abocament de residus sòlids</td>\n",
       "      <td>1373000</td>\n",
       "    </tr>\n",
       "    <tr>\n",
       "      <th>1</th>\n",
       "      <td>Industrials. Als abocadors controlats</td>\n",
       "      <td>Abocament de residus sòlids</td>\n",
       "      <td>615761</td>\n",
       "    </tr>\n",
       "    <tr>\n",
       "      <th>2</th>\n",
       "      <td>Eliminació de residus de la construcció i demo...</td>\n",
       "      <td>Abocament de residus sòlids</td>\n",
       "      <td>2460000</td>\n",
       "    </tr>\n",
       "    <tr>\n",
       "      <th>0</th>\n",
       "      <td>Nitrogen (N)</td>\n",
       "      <td>Emissions a l'aigua</td>\n",
       "      <td>13267</td>\n",
       "    </tr>\n",
       "    <tr>\n",
       "      <th>1</th>\n",
       "      <td>Fòsfor (P)</td>\n",
       "      <td>Emissions a l'aigua</td>\n",
       "      <td>887</td>\n",
       "    </tr>\n",
       "    <tr>\n",
       "      <th>2</th>\n",
       "      <td>Altres substàncies i materials (orgànics)</td>\n",
       "      <td>Emissions a l'aigua</td>\n",
       "      <td>183050</td>\n",
       "    </tr>\n",
       "    <tr>\n",
       "      <th>0</th>\n",
       "      <td>Adob mineral</td>\n",
       "      <td>Ús dissipatiu dels productes</td>\n",
       "      <td>95918</td>\n",
       "    </tr>\n",
       "    <tr>\n",
       "      <th>1</th>\n",
       "      <td>Fang de depuració</td>\n",
       "      <td>Ús dissipatiu dels productes</td>\n",
       "      <td>112769</td>\n",
       "    </tr>\n",
       "    <tr>\n",
       "      <th>2</th>\n",
       "      <td>Compost</td>\n",
       "      <td>Ús dissipatiu dels productes</td>\n",
       "      <td>299300</td>\n",
       "    </tr>\n",
       "    <tr>\n",
       "      <th>3</th>\n",
       "      <td>Llavors</td>\n",
       "      <td>Ús dissipatiu dels productes</td>\n",
       "      <td>71877</td>\n",
       "    </tr>\n",
       "  </tbody>\n",
       "</table>\n",
       "</div>"
      ],
      "text/plain": [
       "                                              target  \\\n",
       "0                            Diòxid de carboni (CO2)   \n",
       "1                                         Metà (CH4)   \n",
       "2                               Òxids nitrosos (NOx)   \n",
       "3                            Monòxid de carboni (CO)   \n",
       "4    Compostos orgànics volàtils no metaners (NMVOC)   \n",
       "5                              Diòxid de sofre (SO2)   \n",
       "6                                      Amoníac (NH3)   \n",
       "7                                         Partícules   \n",
       "8                     Altres emissions a l'atmosfera   \n",
       "0               Municipals. Als abocadors controlats   \n",
       "1              Industrials. Als abocadors controlats   \n",
       "2  Eliminació de residus de la construcció i demo...   \n",
       "0                                       Nitrogen (N)   \n",
       "1                                         Fòsfor (P)   \n",
       "2          Altres substàncies i materials (orgànics)   \n",
       "0                                       Adob mineral   \n",
       "1                                  Fang de depuració   \n",
       "2                                            Compost   \n",
       "3                                            Llavors   \n",
       "\n",
       "                         source     value  \n",
       "0       Emissions a l'atmosfera  37816053  \n",
       "1       Emissions a l'atmosfera    202998  \n",
       "2       Emissions a l'atmosfera    169073  \n",
       "3       Emissions a l'atmosfera    146963  \n",
       "4       Emissions a l'atmosfera    102369  \n",
       "5       Emissions a l'atmosfera     20352  \n",
       "6       Emissions a l'atmosfera     77992  \n",
       "7       Emissions a l'atmosfera     91500  \n",
       "8       Emissions a l'atmosfera      5692  \n",
       "0   Abocament de residus sòlids   1373000  \n",
       "1   Abocament de residus sòlids    615761  \n",
       "2   Abocament de residus sòlids   2460000  \n",
       "0           Emissions a l'aigua     13267  \n",
       "1           Emissions a l'aigua       887  \n",
       "2           Emissions a l'aigua    183050  \n",
       "0  Ús dissipatiu dels productes     95918  \n",
       "1  Ús dissipatiu dels productes    112769  \n",
       "2  Ús dissipatiu dels productes    299300  \n",
       "3  Ús dissipatiu dels productes     71877  "
      ]
     },
     "execution_count": 14,
     "metadata": {},
     "output_type": "execute_result"
    }
   ],
   "source": [
    "processed_subcat = pd.concat([processed_atmosfera, processed_residus_sòlids, processed_aigua, processed_dissipatiu])\n",
    "processed_subcat['value'] = processed_subcat['value'].astype(int)\n",
    "processed_subcat"
   ]
  },
  {
   "cell_type": "code",
   "execution_count": 15,
   "metadata": {},
   "outputs": [
    {
     "data": {
      "text/html": [
       "<div>\n",
       "<style scoped>\n",
       "    .dataframe tbody tr th:only-of-type {\n",
       "        vertical-align: middle;\n",
       "    }\n",
       "\n",
       "    .dataframe tbody tr th {\n",
       "        vertical-align: top;\n",
       "    }\n",
       "\n",
       "    .dataframe thead th {\n",
       "        text-align: right;\n",
       "    }\n",
       "</style>\n",
       "<table border=\"1\" class=\"dataframe\">\n",
       "  <thead>\n",
       "    <tr style=\"text-align: right;\">\n",
       "      <th></th>\n",
       "      <th>target</th>\n",
       "      <th>source</th>\n",
       "      <th>value</th>\n",
       "    </tr>\n",
       "  </thead>\n",
       "  <tbody>\n",
       "    <tr>\n",
       "      <th>0</th>\n",
       "      <td>Abocament de residus sòlids</td>\n",
       "      <td>Waste and Emissions</td>\n",
       "      <td>4448761</td>\n",
       "    </tr>\n",
       "    <tr>\n",
       "      <th>1</th>\n",
       "      <td>Emissions a l'aigua</td>\n",
       "      <td>Waste and Emissions</td>\n",
       "      <td>197204</td>\n",
       "    </tr>\n",
       "    <tr>\n",
       "      <th>2</th>\n",
       "      <td>Emissions a l'atmosfera</td>\n",
       "      <td>Waste and Emissions</td>\n",
       "      <td>38632992</td>\n",
       "    </tr>\n",
       "    <tr>\n",
       "      <th>3</th>\n",
       "      <td>Ús dissipatiu dels productes</td>\n",
       "      <td>Waste and Emissions</td>\n",
       "      <td>579864</td>\n",
       "    </tr>\n",
       "  </tbody>\n",
       "</table>\n",
       "</div>"
      ],
      "text/plain": [
       "                         target               source     value\n",
       "0   Abocament de residus sòlids  Waste and Emissions   4448761\n",
       "1           Emissions a l'aigua  Waste and Emissions    197204\n",
       "2       Emissions a l'atmosfera  Waste and Emissions  38632992\n",
       "3  Ús dissipatiu dels productes  Waste and Emissions    579864"
      ]
     },
     "execution_count": 15,
     "metadata": {},
     "output_type": "execute_result"
    }
   ],
   "source": [
    "processed_cat = processed_subcat.groupby('source')[['value']].sum().reset_index().rename({'source':'target'}, axis=1)\n",
    "processed_cat.insert(1, \"source\", \"Waste and Emissions\")\n",
    "processed_cat"
   ]
  },
  {
   "cell_type": "code",
   "execution_count": 16,
   "metadata": {},
   "outputs": [
    {
     "data": {
      "text/html": [
       "<div>\n",
       "<style scoped>\n",
       "    .dataframe tbody tr th:only-of-type {\n",
       "        vertical-align: middle;\n",
       "    }\n",
       "\n",
       "    .dataframe tbody tr th {\n",
       "        vertical-align: top;\n",
       "    }\n",
       "\n",
       "    .dataframe thead th {\n",
       "        text-align: right;\n",
       "    }\n",
       "</style>\n",
       "<table border=\"1\" class=\"dataframe\">\n",
       "  <thead>\n",
       "    <tr style=\"text-align: right;\">\n",
       "      <th></th>\n",
       "      <th>target</th>\n",
       "      <th>source</th>\n",
       "      <th>value</th>\n",
       "    </tr>\n",
       "  </thead>\n",
       "  <tbody>\n",
       "    <tr>\n",
       "      <th>0</th>\n",
       "      <td>Waste and Emissions</td>\n",
       "      <td>Catalonia</td>\n",
       "      <td>43858821</td>\n",
       "    </tr>\n",
       "  </tbody>\n",
       "</table>\n",
       "</div>"
      ],
      "text/plain": [
       "                target     source     value\n",
       "0  Waste and Emissions  Catalonia  43858821"
      ]
     },
     "execution_count": 16,
     "metadata": {},
     "output_type": "execute_result"
    }
   ],
   "source": [
    "processed_total = pd.Series({\"target\":\"Waste and Emissions\", \"source\":\"Catalonia\", \"value\":processed_cat['value'].sum()}).to_frame().T\n",
    "processed_total"
   ]
  },
  {
   "cell_type": "code",
   "execution_count": 17,
   "metadata": {},
   "outputs": [],
   "source": [
    "extraction = extraction.drop([\"Total\", \"Minerals metàl·lics\", \"ED per habitant\", \"ED per hectàrea\", \"ED/PIB a preus corrents (kg/€)\"])\n",
    "extraction.index = extraction.index.astype(str) + \" (domestic extraction)\""
   ]
  },
  {
   "cell_type": "code",
   "execution_count": 18,
   "metadata": {},
   "outputs": [
    {
     "data": {
      "text/html": [
       "<div>\n",
       "<style scoped>\n",
       "    .dataframe tbody tr th:only-of-type {\n",
       "        vertical-align: middle;\n",
       "    }\n",
       "\n",
       "    .dataframe tbody tr th {\n",
       "        vertical-align: top;\n",
       "    }\n",
       "\n",
       "    .dataframe thead th {\n",
       "        text-align: right;\n",
       "    }\n",
       "</style>\n",
       "<table border=\"1\" class=\"dataframe\">\n",
       "  <thead>\n",
       "    <tr style=\"text-align: right;\">\n",
       "      <th></th>\n",
       "      <th>source</th>\n",
       "      <th>target</th>\n",
       "      <th>value</th>\n",
       "    </tr>\n",
       "  </thead>\n",
       "  <tbody>\n",
       "    <tr>\n",
       "      <th>0</th>\n",
       "      <td>Biomassa (domestic extraction)</td>\n",
       "      <td>Domestic extraction</td>\n",
       "      <td>8465715</td>\n",
       "    </tr>\n",
       "    <tr>\n",
       "      <th>1</th>\n",
       "      <td>Minerals no metàl·lics (domestic extraction)</td>\n",
       "      <td>Domestic extraction</td>\n",
       "      <td>27139278</td>\n",
       "    </tr>\n",
       "    <tr>\n",
       "      <th>2</th>\n",
       "      <td>Combustibles fòssils (domestic extraction)</td>\n",
       "      <td>Domestic extraction</td>\n",
       "      <td>4855</td>\n",
       "    </tr>\n",
       "  </tbody>\n",
       "</table>\n",
       "</div>"
      ],
      "text/plain": [
       "                                         source               target     value\n",
       "0                Biomassa (domestic extraction)  Domestic extraction   8465715\n",
       "1  Minerals no metàl·lics (domestic extraction)  Domestic extraction  27139278\n",
       "2    Combustibles fòssils (domestic extraction)  Domestic extraction      4855"
      ]
     },
     "execution_count": 18,
     "metadata": {},
     "output_type": "execute_result"
    }
   ],
   "source": [
    "extraction_cat = extraction.to_frame().reset_index()\n",
    "extraction_cat.insert(1, \"target\", \"Domestic extraction\")\n",
    "extraction_cat = extraction_cat.rename({\"index\":\"source\", \"2021\":\"value\"}, axis=1)\n",
    "extraction_cat['value'] = extraction_cat['value'].astype(int)\n",
    "extraction_cat "
   ]
  },
  {
   "cell_type": "code",
   "execution_count": 19,
   "metadata": {},
   "outputs": [
    {
     "data": {
      "text/html": [
       "<div>\n",
       "<style scoped>\n",
       "    .dataframe tbody tr th:only-of-type {\n",
       "        vertical-align: middle;\n",
       "    }\n",
       "\n",
       "    .dataframe tbody tr th {\n",
       "        vertical-align: top;\n",
       "    }\n",
       "\n",
       "    .dataframe thead th {\n",
       "        text-align: right;\n",
       "    }\n",
       "</style>\n",
       "<table border=\"1\" class=\"dataframe\">\n",
       "  <thead>\n",
       "    <tr style=\"text-align: right;\">\n",
       "      <th></th>\n",
       "      <th>source</th>\n",
       "      <th>target</th>\n",
       "      <th>value</th>\n",
       "    </tr>\n",
       "  </thead>\n",
       "  <tbody>\n",
       "    <tr>\n",
       "      <th>0</th>\n",
       "      <td>Domestic extraction</td>\n",
       "      <td>Catalonia</td>\n",
       "      <td>35609848</td>\n",
       "    </tr>\n",
       "  </tbody>\n",
       "</table>\n",
       "</div>"
      ],
      "text/plain": [
       "                source     target     value\n",
       "0  Domestic extraction  Catalonia  35609848"
      ]
     },
     "execution_count": 19,
     "metadata": {},
     "output_type": "execute_result"
    }
   ],
   "source": [
    "extraction_total = pd.Series({\"source\":\"Domestic extraction\", \"target\":\"Catalonia\", \"value\":extraction_cat['value'].sum()}).to_frame().T\n",
    "extraction_total"
   ]
  },
  {
   "cell_type": "code",
   "execution_count": 20,
   "metadata": {},
   "outputs": [],
   "source": [
    "master = pd.concat([imports_subcat, imports_cat, imports_total, \n",
    "                    exports_subcat, exports_cat, exports_total, \n",
    "                    processed_subcat, processed_cat, processed_total, \n",
    "                    extraction_cat, extraction_total])"
   ]
  },
  {
   "cell_type": "code",
   "execution_count": 27,
   "metadata": {},
   "outputs": [],
   "source": [
    "def clean_label(label):\n",
    "    return re.sub(r\"\\s*\\(.*?\\)\", \"\", label)\n",
    "\n",
    "nodes = list(pd.unique(master[['source', 'target']].values.ravel('K')))\n",
    "\n",
    "node_to_index = {node: i for i, node in enumerate(nodes)}\n",
    "\n",
    "node_labels = [clean_label(node) for node in nodes]\n",
    "\n",
    "master['source_id'] = master['source'].map(node_to_index)\n",
    "master['target_id'] = master['target'].map(node_to_index)"
   ]
  },
  {
   "cell_type": "code",
   "execution_count": 36,
   "metadata": {},
   "outputs": [],
   "source": [
    "colorlist = [\"#fee8c8\"]*5 + [\"#fdbb84\"]*5 + [\"#e34a33\"]*6 + [\"#fee8c8\"] + [\"#e34a33\"] + [\"#fdbb84\"] + [\"#e34a33\"] + [\"#e34a33\"] + \\\n",
    "    [\"#ece7f2\"] + [\"#a6bddb\"] + [\"#2b8cbe\"] + [\"#2b8cbe\"] + [\"black\"] + [\"#e7e1ef\"] + [\"#ce1256\"] + [\"#d7b5d8\"] + [\"#df65b0\"] + [\"#ce1256\"] +\\\n",
    "        [\"#238443\"]*4 + [\"#ece7f2\"]*5 + [\"#a6bddb\"]*5 + [\"#2b8cbe\"]*7 + [\"#f1eef6\"]*9 + [\"#ce1256\"]*3 + [\"#d7b5d8\"]*3 + [\"#df65b0\"]*4"
   ]
  },
  {
   "cell_type": "code",
   "execution_count": 28,
   "metadata": {},
   "outputs": [
    {
     "data": {
      "text/plain": [
       "['Matèries primeres (import primers)',\n",
       " 'Biòtiques (import primers)',\n",
       " 'Metàl·liques (import primers)',\n",
       " 'No metàl·liques (import primers)',\n",
       " 'Combustibles fòssils (import primers)',\n",
       " 'Biòtics (import semimanufacturats)',\n",
       " 'Metàl·lics (import semimanufacturats)',\n",
       " 'No metàl·lics (import semimanufacturats)',\n",
       " 'Combustibles fòssils (import semimanufacturats)',\n",
       " 'Altres productes semimanufacturats (import semimanufacturats)',\n",
       " 'Biòtics (import manufacturats)',\n",
       " 'Metàl·lics (import manufacturats)',\n",
       " 'No metàl·lics (import manufacturats)',\n",
       " 'Combustibles fòssils (import manufacturats)',\n",
       " 'Residus manufacturats (import manufacturats)',\n",
       " 'Altres productes manufacturats (import manufacturats)',\n",
       " 'Matèries primeres (import)',\n",
       " 'Productes manufacturats (import)',\n",
       " 'Productes semimanufacturats (import)',\n",
       " \"Altres importacions de l'exterior\",\n",
       " 'Imports',\n",
       " 'Matèries primeres (export)',\n",
       " 'Productes semimanufacturats (export)',\n",
       " 'Productes manufacturats (export)',\n",
       " 'Export',\n",
       " 'Catalonia',\n",
       " \"Emissions a l'atmosfera\",\n",
       " 'Abocament de residus sòlids',\n",
       " \"Emissions a l'aigua\",\n",
       " 'Ús dissipatiu dels productes',\n",
       " 'Waste and Emissions',\n",
       " 'Biomassa (domestic extraction)',\n",
       " 'Minerals no metàl·lics (domestic extraction)',\n",
       " 'Combustibles fòssils (domestic extraction)',\n",
       " 'Domestic extraction',\n",
       " 'Matèries primeres (export primers)',\n",
       " 'Biòtiques (export primers)',\n",
       " 'Metàl·liques (export primers)',\n",
       " 'No metàl·liques (export primers)',\n",
       " 'Combustibles fòssils (export primers)',\n",
       " 'Biòtics (export semimanufacturats)',\n",
       " 'Metàl·lics (export semimanufacturats)',\n",
       " 'No metàl·lics (export semimanufacturats)',\n",
       " 'Combustibles fòssils (export semimanufacturats)',\n",
       " 'Altres productes semimanufacturats (export semimanufacturats)',\n",
       " 'Biòtics (export manufacturats)',\n",
       " 'Metàl·lics (export manufacturats)',\n",
       " 'No metàl·lics (export manufacturats)',\n",
       " 'Combustibles fòssils (1) (export manufacturats)',\n",
       " 'Residus manufacturats (export manufacturats)',\n",
       " 'Altres productes manufacturats (export manufacturats)',\n",
       " \"Altres exportacions de l'exterior\",\n",
       " 'Diòxid de carboni (CO2)',\n",
       " 'Metà (CH4)',\n",
       " 'Òxids nitrosos (NOx)',\n",
       " 'Monòxid de carboni (CO)',\n",
       " 'Compostos orgànics volàtils no metaners (NMVOC)',\n",
       " 'Diòxid de sofre (SO2)',\n",
       " 'Amoníac (NH3)',\n",
       " 'Partícules',\n",
       " \"Altres emissions a l'atmosfera\",\n",
       " 'Municipals. Als abocadors controlats',\n",
       " 'Industrials. Als abocadors controlats',\n",
       " 'Eliminació de residus de la construcció i demolició als abocadors controlats',\n",
       " 'Nitrogen (N)',\n",
       " 'Fòsfor (P)',\n",
       " 'Altres substàncies i materials (orgànics)',\n",
       " 'Adob mineral',\n",
       " 'Fang de depuració',\n",
       " 'Compost',\n",
       " 'Llavors']"
      ]
     },
     "execution_count": 28,
     "metadata": {},
     "output_type": "execute_result"
    }
   ],
   "source": [
    "nodes"
   ]
  },
  {
   "cell_type": "code",
   "execution_count": 42,
   "metadata": {},
   "outputs": [
    {
     "data": {
      "application/vnd.plotly.v1+json": {
       "config": {
        "plotlyServerURL": "https://plot.ly"
       },
       "data": [
        {
         "arrangement": "snap",
         "link": {
          "source": [
           0,
           1,
           2,
           3,
           4,
           5,
           6,
           7,
           8,
           9,
           10,
           11,
           12,
           13,
           14,
           15,
           16,
           17,
           18,
           19,
           20,
           21,
           21,
           21,
           21,
           21,
           22,
           22,
           22,
           22,
           22,
           23,
           23,
           23,
           23,
           23,
           23,
           24,
           24,
           24,
           24,
           25,
           26,
           26,
           26,
           26,
           26,
           26,
           26,
           26,
           26,
           27,
           27,
           27,
           28,
           28,
           28,
           29,
           29,
           29,
           29,
           30,
           30,
           30,
           30,
           25,
           31,
           32,
           33,
           34
          ],
          "target": [
           16,
           16,
           16,
           16,
           16,
           18,
           18,
           18,
           18,
           18,
           17,
           17,
           17,
           17,
           17,
           17,
           20,
           20,
           20,
           20,
           25,
           35,
           36,
           37,
           38,
           39,
           40,
           41,
           42,
           43,
           44,
           45,
           46,
           47,
           48,
           49,
           50,
           21,
           23,
           22,
           51,
           24,
           52,
           53,
           54,
           55,
           56,
           57,
           58,
           59,
           60,
           61,
           62,
           63,
           64,
           65,
           66,
           67,
           68,
           69,
           70,
           27,
           28,
           26,
           29,
           30,
           34,
           34,
           34,
           25
          ],
          "value": [
           26442601,
           14950670,
           73474,
           1735418,
           9683040,
           5906543,
           4894518,
           1567081,
           2000037,
           1546831,
           15195133,
           6762375,
           1916495,
           11913913,
           1753,
           7899757,
           52885203,
           43689426,
           15915010,
           5407608,
           117897247,
           10047573,
           5640688,
           123693,
           3523963,
           841739,
           6986128,
           2467339,
           3725972,
           1607478,
           1607944,
           15214592,
           7551836,
           1409284,
           11997464,
           1445,
           8917243,
           20177656,
           45091864,
           16394861,
           7318458,
           88982839,
           37816053,
           202998,
           169073,
           146963,
           102369,
           20352,
           77992,
           91500,
           5692,
           1373000,
           615761,
           2460000,
           13267,
           887,
           183050,
           95918,
           112769,
           299300,
           71877,
           4448761,
           197204,
           38632992,
           579864,
           43858821,
           8465715,
           27139278,
           4855,
           35609848
          ]
         },
         "node": {
          "color": [
           "#fee8c8",
           "#fee8c8",
           "#fee8c8",
           "#fee8c8",
           "#fee8c8",
           "#fdbb84",
           "#fdbb84",
           "#fdbb84",
           "#fdbb84",
           "#fdbb84",
           "#e34a33",
           "#e34a33",
           "#e34a33",
           "#e34a33",
           "#e34a33",
           "#e34a33",
           "#fee8c8",
           "#e34a33",
           "#fdbb84",
           "#e34a33",
           "#e34a33",
           "#ece7f2",
           "#a6bddb",
           "#2b8cbe",
           "#2b8cbe",
           "black",
           "#e7e1ef",
           "#ce1256",
           "#d7b5d8",
           "#df65b0",
           "#ce1256",
           "#238443",
           "#238443",
           "#238443",
           "#238443",
           "#ece7f2",
           "#ece7f2",
           "#ece7f2",
           "#ece7f2",
           "#ece7f2",
           "#a6bddb",
           "#a6bddb",
           "#a6bddb",
           "#a6bddb",
           "#a6bddb",
           "#2b8cbe",
           "#2b8cbe",
           "#2b8cbe",
           "#2b8cbe",
           "#2b8cbe",
           "#2b8cbe",
           "#2b8cbe",
           "#f1eef6",
           "#f1eef6",
           "#f1eef6",
           "#f1eef6",
           "#f1eef6",
           "#f1eef6",
           "#f1eef6",
           "#f1eef6",
           "#f1eef6",
           "#ce1256",
           "#ce1256",
           "#ce1256",
           "#d7b5d8",
           "#d7b5d8",
           "#d7b5d8",
           "#df65b0",
           "#df65b0",
           "#df65b0",
           "#df65b0"
          ],
          "label": [
           "Matèries primeres",
           "Biòtiques",
           "Metàl·liques",
           "No metàl·liques",
           "Combustibles fòssils",
           "Biòtics",
           "Metàl·lics",
           "No metàl·lics",
           "Combustibles fòssils",
           "Altres productes semimanufacturats",
           "Biòtics",
           "Metàl·lics",
           "No metàl·lics",
           "Combustibles fòssils",
           "Residus manufacturats",
           "Altres productes manufacturats",
           "Matèries primeres",
           "Productes manufacturats",
           "Productes semimanufacturats",
           "Altres importacions de l'exterior",
           "Imports",
           "Matèries primeres",
           "Productes semimanufacturats",
           "Productes manufacturats",
           "Export",
           "Catalonia",
           "Emissions a l'atmosfera",
           "Abocament de residus sòlids",
           "Emissions a l'aigua",
           "Ús dissipatiu dels productes",
           "Waste and Emissions",
           "Biomassa",
           "Minerals no metàl·lics",
           "Combustibles fòssils",
           "Domestic extraction",
           "Matèries primeres",
           "Biòtiques",
           "Metàl·liques",
           "No metàl·liques",
           "Combustibles fòssils",
           "Biòtics",
           "Metàl·lics",
           "No metàl·lics",
           "Combustibles fòssils",
           "Altres productes semimanufacturats",
           "Biòtics",
           "Metàl·lics",
           "No metàl·lics",
           "Combustibles fòssils",
           "Residus manufacturats",
           "Altres productes manufacturats",
           "Altres exportacions de l'exterior",
           "Diòxid de carboni",
           "Metà",
           "Òxids nitrosos",
           "Monòxid de carboni",
           "Compostos orgànics volàtils no metaners",
           "Diòxid de sofre",
           "Amoníac",
           "Partícules",
           "Altres emissions a l'atmosfera",
           "Municipals. Als abocadors controlats",
           "Industrials. Als abocadors controlats",
           "Eliminació de residus de la construcció i demolició als abocadors controlats",
           "Nitrogen",
           "Fòsfor",
           "Altres substàncies i materials",
           "Adob mineral",
           "Fang de depuració",
           "Compost",
           "Llavors"
          ],
          "line": {
           "color": "black",
           "width": 0.5
          },
          "pad": 10,
          "thickness": 10
         },
         "type": "sankey",
         "valuesuffix": "tonnes"
        }
       ],
       "layout": {
        "font": {
         "size": 10
        },
        "height": 600,
        "margin": {
         "b": 100,
         "l": 100,
         "r": 100,
         "t": 100
        },
        "template": {
         "data": {
          "bar": [
           {
            "error_x": {
             "color": "#2a3f5f"
            },
            "error_y": {
             "color": "#2a3f5f"
            },
            "marker": {
             "line": {
              "color": "#E5ECF6",
              "width": 0.5
             },
             "pattern": {
              "fillmode": "overlay",
              "size": 10,
              "solidity": 0.2
             }
            },
            "type": "bar"
           }
          ],
          "barpolar": [
           {
            "marker": {
             "line": {
              "color": "#E5ECF6",
              "width": 0.5
             },
             "pattern": {
              "fillmode": "overlay",
              "size": 10,
              "solidity": 0.2
             }
            },
            "type": "barpolar"
           }
          ],
          "carpet": [
           {
            "aaxis": {
             "endlinecolor": "#2a3f5f",
             "gridcolor": "white",
             "linecolor": "white",
             "minorgridcolor": "white",
             "startlinecolor": "#2a3f5f"
            },
            "baxis": {
             "endlinecolor": "#2a3f5f",
             "gridcolor": "white",
             "linecolor": "white",
             "minorgridcolor": "white",
             "startlinecolor": "#2a3f5f"
            },
            "type": "carpet"
           }
          ],
          "choropleth": [
           {
            "colorbar": {
             "outlinewidth": 0,
             "ticks": ""
            },
            "type": "choropleth"
           }
          ],
          "contour": [
           {
            "colorbar": {
             "outlinewidth": 0,
             "ticks": ""
            },
            "colorscale": [
             [
              0,
              "#0d0887"
             ],
             [
              0.1111111111111111,
              "#46039f"
             ],
             [
              0.2222222222222222,
              "#7201a8"
             ],
             [
              0.3333333333333333,
              "#9c179e"
             ],
             [
              0.4444444444444444,
              "#bd3786"
             ],
             [
              0.5555555555555556,
              "#d8576b"
             ],
             [
              0.6666666666666666,
              "#ed7953"
             ],
             [
              0.7777777777777778,
              "#fb9f3a"
             ],
             [
              0.8888888888888888,
              "#fdca26"
             ],
             [
              1,
              "#f0f921"
             ]
            ],
            "type": "contour"
           }
          ],
          "contourcarpet": [
           {
            "colorbar": {
             "outlinewidth": 0,
             "ticks": ""
            },
            "type": "contourcarpet"
           }
          ],
          "heatmap": [
           {
            "colorbar": {
             "outlinewidth": 0,
             "ticks": ""
            },
            "colorscale": [
             [
              0,
              "#0d0887"
             ],
             [
              0.1111111111111111,
              "#46039f"
             ],
             [
              0.2222222222222222,
              "#7201a8"
             ],
             [
              0.3333333333333333,
              "#9c179e"
             ],
             [
              0.4444444444444444,
              "#bd3786"
             ],
             [
              0.5555555555555556,
              "#d8576b"
             ],
             [
              0.6666666666666666,
              "#ed7953"
             ],
             [
              0.7777777777777778,
              "#fb9f3a"
             ],
             [
              0.8888888888888888,
              "#fdca26"
             ],
             [
              1,
              "#f0f921"
             ]
            ],
            "type": "heatmap"
           }
          ],
          "heatmapgl": [
           {
            "colorbar": {
             "outlinewidth": 0,
             "ticks": ""
            },
            "colorscale": [
             [
              0,
              "#0d0887"
             ],
             [
              0.1111111111111111,
              "#46039f"
             ],
             [
              0.2222222222222222,
              "#7201a8"
             ],
             [
              0.3333333333333333,
              "#9c179e"
             ],
             [
              0.4444444444444444,
              "#bd3786"
             ],
             [
              0.5555555555555556,
              "#d8576b"
             ],
             [
              0.6666666666666666,
              "#ed7953"
             ],
             [
              0.7777777777777778,
              "#fb9f3a"
             ],
             [
              0.8888888888888888,
              "#fdca26"
             ],
             [
              1,
              "#f0f921"
             ]
            ],
            "type": "heatmapgl"
           }
          ],
          "histogram": [
           {
            "marker": {
             "pattern": {
              "fillmode": "overlay",
              "size": 10,
              "solidity": 0.2
             }
            },
            "type": "histogram"
           }
          ],
          "histogram2d": [
           {
            "colorbar": {
             "outlinewidth": 0,
             "ticks": ""
            },
            "colorscale": [
             [
              0,
              "#0d0887"
             ],
             [
              0.1111111111111111,
              "#46039f"
             ],
             [
              0.2222222222222222,
              "#7201a8"
             ],
             [
              0.3333333333333333,
              "#9c179e"
             ],
             [
              0.4444444444444444,
              "#bd3786"
             ],
             [
              0.5555555555555556,
              "#d8576b"
             ],
             [
              0.6666666666666666,
              "#ed7953"
             ],
             [
              0.7777777777777778,
              "#fb9f3a"
             ],
             [
              0.8888888888888888,
              "#fdca26"
             ],
             [
              1,
              "#f0f921"
             ]
            ],
            "type": "histogram2d"
           }
          ],
          "histogram2dcontour": [
           {
            "colorbar": {
             "outlinewidth": 0,
             "ticks": ""
            },
            "colorscale": [
             [
              0,
              "#0d0887"
             ],
             [
              0.1111111111111111,
              "#46039f"
             ],
             [
              0.2222222222222222,
              "#7201a8"
             ],
             [
              0.3333333333333333,
              "#9c179e"
             ],
             [
              0.4444444444444444,
              "#bd3786"
             ],
             [
              0.5555555555555556,
              "#d8576b"
             ],
             [
              0.6666666666666666,
              "#ed7953"
             ],
             [
              0.7777777777777778,
              "#fb9f3a"
             ],
             [
              0.8888888888888888,
              "#fdca26"
             ],
             [
              1,
              "#f0f921"
             ]
            ],
            "type": "histogram2dcontour"
           }
          ],
          "mesh3d": [
           {
            "colorbar": {
             "outlinewidth": 0,
             "ticks": ""
            },
            "type": "mesh3d"
           }
          ],
          "parcoords": [
           {
            "line": {
             "colorbar": {
              "outlinewidth": 0,
              "ticks": ""
             }
            },
            "type": "parcoords"
           }
          ],
          "pie": [
           {
            "automargin": true,
            "type": "pie"
           }
          ],
          "scatter": [
           {
            "fillpattern": {
             "fillmode": "overlay",
             "size": 10,
             "solidity": 0.2
            },
            "type": "scatter"
           }
          ],
          "scatter3d": [
           {
            "line": {
             "colorbar": {
              "outlinewidth": 0,
              "ticks": ""
             }
            },
            "marker": {
             "colorbar": {
              "outlinewidth": 0,
              "ticks": ""
             }
            },
            "type": "scatter3d"
           }
          ],
          "scattercarpet": [
           {
            "marker": {
             "colorbar": {
              "outlinewidth": 0,
              "ticks": ""
             }
            },
            "type": "scattercarpet"
           }
          ],
          "scattergeo": [
           {
            "marker": {
             "colorbar": {
              "outlinewidth": 0,
              "ticks": ""
             }
            },
            "type": "scattergeo"
           }
          ],
          "scattergl": [
           {
            "marker": {
             "colorbar": {
              "outlinewidth": 0,
              "ticks": ""
             }
            },
            "type": "scattergl"
           }
          ],
          "scattermapbox": [
           {
            "marker": {
             "colorbar": {
              "outlinewidth": 0,
              "ticks": ""
             }
            },
            "type": "scattermapbox"
           }
          ],
          "scatterpolar": [
           {
            "marker": {
             "colorbar": {
              "outlinewidth": 0,
              "ticks": ""
             }
            },
            "type": "scatterpolar"
           }
          ],
          "scatterpolargl": [
           {
            "marker": {
             "colorbar": {
              "outlinewidth": 0,
              "ticks": ""
             }
            },
            "type": "scatterpolargl"
           }
          ],
          "scatterternary": [
           {
            "marker": {
             "colorbar": {
              "outlinewidth": 0,
              "ticks": ""
             }
            },
            "type": "scatterternary"
           }
          ],
          "surface": [
           {
            "colorbar": {
             "outlinewidth": 0,
             "ticks": ""
            },
            "colorscale": [
             [
              0,
              "#0d0887"
             ],
             [
              0.1111111111111111,
              "#46039f"
             ],
             [
              0.2222222222222222,
              "#7201a8"
             ],
             [
              0.3333333333333333,
              "#9c179e"
             ],
             [
              0.4444444444444444,
              "#bd3786"
             ],
             [
              0.5555555555555556,
              "#d8576b"
             ],
             [
              0.6666666666666666,
              "#ed7953"
             ],
             [
              0.7777777777777778,
              "#fb9f3a"
             ],
             [
              0.8888888888888888,
              "#fdca26"
             ],
             [
              1,
              "#f0f921"
             ]
            ],
            "type": "surface"
           }
          ],
          "table": [
           {
            "cells": {
             "fill": {
              "color": "#EBF0F8"
             },
             "line": {
              "color": "white"
             }
            },
            "header": {
             "fill": {
              "color": "#C8D4E3"
             },
             "line": {
              "color": "white"
             }
            },
            "type": "table"
           }
          ]
         },
         "layout": {
          "annotationdefaults": {
           "arrowcolor": "#2a3f5f",
           "arrowhead": 0,
           "arrowwidth": 1
          },
          "autotypenumbers": "strict",
          "coloraxis": {
           "colorbar": {
            "outlinewidth": 0,
            "ticks": ""
           }
          },
          "colorscale": {
           "diverging": [
            [
             0,
             "#8e0152"
            ],
            [
             0.1,
             "#c51b7d"
            ],
            [
             0.2,
             "#de77ae"
            ],
            [
             0.3,
             "#f1b6da"
            ],
            [
             0.4,
             "#fde0ef"
            ],
            [
             0.5,
             "#f7f7f7"
            ],
            [
             0.6,
             "#e6f5d0"
            ],
            [
             0.7,
             "#b8e186"
            ],
            [
             0.8,
             "#7fbc41"
            ],
            [
             0.9,
             "#4d9221"
            ],
            [
             1,
             "#276419"
            ]
           ],
           "sequential": [
            [
             0,
             "#0d0887"
            ],
            [
             0.1111111111111111,
             "#46039f"
            ],
            [
             0.2222222222222222,
             "#7201a8"
            ],
            [
             0.3333333333333333,
             "#9c179e"
            ],
            [
             0.4444444444444444,
             "#bd3786"
            ],
            [
             0.5555555555555556,
             "#d8576b"
            ],
            [
             0.6666666666666666,
             "#ed7953"
            ],
            [
             0.7777777777777778,
             "#fb9f3a"
            ],
            [
             0.8888888888888888,
             "#fdca26"
            ],
            [
             1,
             "#f0f921"
            ]
           ],
           "sequentialminus": [
            [
             0,
             "#0d0887"
            ],
            [
             0.1111111111111111,
             "#46039f"
            ],
            [
             0.2222222222222222,
             "#7201a8"
            ],
            [
             0.3333333333333333,
             "#9c179e"
            ],
            [
             0.4444444444444444,
             "#bd3786"
            ],
            [
             0.5555555555555556,
             "#d8576b"
            ],
            [
             0.6666666666666666,
             "#ed7953"
            ],
            [
             0.7777777777777778,
             "#fb9f3a"
            ],
            [
             0.8888888888888888,
             "#fdca26"
            ],
            [
             1,
             "#f0f921"
            ]
           ]
          },
          "colorway": [
           "#636efa",
           "#EF553B",
           "#00cc96",
           "#ab63fa",
           "#FFA15A",
           "#19d3f3",
           "#FF6692",
           "#B6E880",
           "#FF97FF",
           "#FECB52"
          ],
          "font": {
           "color": "#2a3f5f"
          },
          "geo": {
           "bgcolor": "white",
           "lakecolor": "white",
           "landcolor": "#E5ECF6",
           "showlakes": true,
           "showland": true,
           "subunitcolor": "white"
          },
          "hoverlabel": {
           "align": "left"
          },
          "hovermode": "closest",
          "mapbox": {
           "style": "light"
          },
          "paper_bgcolor": "white",
          "plot_bgcolor": "#E5ECF6",
          "polar": {
           "angularaxis": {
            "gridcolor": "white",
            "linecolor": "white",
            "ticks": ""
           },
           "bgcolor": "#E5ECF6",
           "radialaxis": {
            "gridcolor": "white",
            "linecolor": "white",
            "ticks": ""
           }
          },
          "scene": {
           "xaxis": {
            "backgroundcolor": "#E5ECF6",
            "gridcolor": "white",
            "gridwidth": 2,
            "linecolor": "white",
            "showbackground": true,
            "ticks": "",
            "zerolinecolor": "white"
           },
           "yaxis": {
            "backgroundcolor": "#E5ECF6",
            "gridcolor": "white",
            "gridwidth": 2,
            "linecolor": "white",
            "showbackground": true,
            "ticks": "",
            "zerolinecolor": "white"
           },
           "zaxis": {
            "backgroundcolor": "#E5ECF6",
            "gridcolor": "white",
            "gridwidth": 2,
            "linecolor": "white",
            "showbackground": true,
            "ticks": "",
            "zerolinecolor": "white"
           }
          },
          "shapedefaults": {
           "line": {
            "color": "#2a3f5f"
           }
          },
          "ternary": {
           "aaxis": {
            "gridcolor": "white",
            "linecolor": "white",
            "ticks": ""
           },
           "baxis": {
            "gridcolor": "white",
            "linecolor": "white",
            "ticks": ""
           },
           "bgcolor": "#E5ECF6",
           "caxis": {
            "gridcolor": "white",
            "linecolor": "white",
            "ticks": ""
           }
          },
          "title": {
           "x": 0.05
          },
          "xaxis": {
           "automargin": true,
           "gridcolor": "white",
           "linecolor": "white",
           "ticks": "",
           "title": {
            "standoff": 15
           },
           "zerolinecolor": "white",
           "zerolinewidth": 2
          },
          "yaxis": {
           "automargin": true,
           "gridcolor": "white",
           "linecolor": "white",
           "ticks": "",
           "title": {
            "standoff": 15
           },
           "zerolinecolor": "white",
           "zerolinewidth": 2
          }
         }
        },
        "title": {
         "text": "Sankey Diagram of the Urban Metabolism of Catalonia"
        },
        "width": 1400
       }
      }
     },
     "metadata": {},
     "output_type": "display_data"
    }
   ],
   "source": [
    "fig = go.Figure(data=[go.Sankey(\n",
    "    arrangement=\"snap\",\n",
    "    valuesuffix = \"tonnes\",\n",
    "    node=dict(\n",
    "        pad=10,\n",
    "        thickness=10,\n",
    "        line=dict(color=\"black\", width=0.5),\n",
    "        label=node_labels,\n",
    "        color=colorlist\n",
    "    ),\n",
    "    link=dict(\n",
    "        source=master['source_id'], \n",
    "        target=master['target_id'],\n",
    "        value=master['value']\n",
    "    )\n",
    ")])\n",
    "\n",
    "fig.update_layout(\n",
    "    title_text=\"Sankey Diagram of the Urban Metabolism of Catalonia\", \n",
    "    font_size=10,\n",
    "    width=1400, \n",
    "    height=600, \n",
    "    margin=dict(l=100, r=100, t=100, b=100)\n",
    ")\n",
    "fig.show()\n"
   ]
  },
  {
   "cell_type": "code",
   "execution_count": 43,
   "metadata": {},
   "outputs": [],
   "source": [
    "import plotly.io as pio\n",
    "pio.write_html(fig, file='index.html', auto_open=True)"
   ]
  },
  {
   "cell_type": "code",
   "execution_count": null,
   "metadata": {},
   "outputs": [],
   "source": []
  }
 ],
 "metadata": {
  "kernelspec": {
   "display_name": "ESW-fumehood",
   "language": "python",
   "name": "python3"
  },
  "language_info": {
   "codemirror_mode": {
    "name": "ipython",
    "version": 3
   },
   "file_extension": ".py",
   "mimetype": "text/x-python",
   "name": "python",
   "nbconvert_exporter": "python",
   "pygments_lexer": "ipython3",
   "version": "3.12.4"
  }
 },
 "nbformat": 4,
 "nbformat_minor": 2
}
